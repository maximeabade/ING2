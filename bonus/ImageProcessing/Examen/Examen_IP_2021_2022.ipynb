{
 "cells": [
  {
   "cell_type": "markdown",
   "metadata": {},
   "source": [
    "<table>\n",
    "<tr>\n",
    "    <td width=10%>\n",
    "        <img src=\"cy_logo.png\">\n",
    "    </td>\n",
    "    <td>\n",
    "        <center>\n",
    "            <h1>Examen IA based Image Processing</h1>\n",
    "        </center>\n",
    "    </td>\n",
    "    <td width=15%>\n",
    "        Yannick Le Nir  \n",
    "    </td>\n",
    "</tr>\n",
    "</table>\n",
    "\n",
    "<br/>\n",
    "\n",
    "&nbsp;&nbsp;&nbsp; 1) <a href=\"#exercice_1\"> Exercice 1 </a><br>\n",
    "\n",
    "&nbsp;&nbsp;&nbsp; 2) <a href=\"#exercice_2\"> Exercice 2 </a><br>\n",
    "\n",
    "&nbsp;&nbsp;&nbsp; 3) <a href=\"#bonus\"> Bonus </a><br>"
   ]
  },
  {
   "cell_type": "markdown",
   "metadata": {},
   "source": [
    "## <a id=\"exercice_1\">Exercice 1</a>\n",
    "* Chargez l'image `mon_nom.jpeg` dans un tenseur numpy des 3 canaux (R,V,B).\n",
    "* Ecrire une transformation affine, correspondant à une rotation par rapport au centre d'un nombre de degrés équivalents à votre jour de naissance (entre 1 et 31), et une translation d'un nombre de pixels équivalents à votre mois de naissance en abcisse (entre 1 et 12) et à votre année de naissance en ordonnée (entre 0 et 99).\n",
    "* Appliquer votre transformation sur votre photo et affichez le résultat."
   ]
  },
  {
   "cell_type": "markdown",
   "metadata": {},
   "source": [
    "## <a id=\"exercice_2\">Exercice 2</a>\n",
    "* Modifier la fonction convolve vue en TP pour qu'elle puisse être appliquée à des images contenant les trois canaux, puis essayez de construire un filtre de convolution permettant de détecter les contours de votre visage.\n",
    "* Appliquer votre fonction sur votre photo et affichez le résultat."
   ]
  },
  {
   "cell_type": "markdown",
   "metadata": {},
   "source": [
    "## <a id=\"bonus\">Bonus</a>\n",
    "* Appliquer l'algorithme yolov3 sur votre photo afin de vérifier s'il vous considère comme une personne."
   ]
  }
 ],
 "metadata": {
  "kernelspec": {
   "display_name": "Python 3 (ipykernel)",
   "language": "python",
   "name": "python3"
  },
  "language_info": {
   "codemirror_mode": {
    "name": "ipython",
    "version": 3
   },
   "file_extension": ".py",
   "mimetype": "text/x-python",
   "name": "python",
   "nbconvert_exporter": "python",
   "pygments_lexer": "ipython3",
   "version": "3.8.10"
  }
 },
 "nbformat": 4,
 "nbformat_minor": 2
}
