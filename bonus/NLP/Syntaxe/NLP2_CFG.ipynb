{
 "cells": [
  {
   "cell_type": "markdown",
   "metadata": {},
   "source": [
    "# Analyse syntaxique par CFG"
   ]
  },
  {
   "cell_type": "markdown",
   "metadata": {},
   "source": [
    "## Accès à 5% du corpus Penn Treebank (Wall Street Journal)"
   ]
  },
  {
   "cell_type": "code",
   "execution_count": 2,
   "metadata": {},
   "outputs": [
    {
     "name": "stdout",
     "output_type": "stream",
     "text": [
      "(S\n",
      "  (NP-SBJ-1\n",
      "    (NP (NNP Rudolph) (NNP Agnew))\n",
      "    (, ,)\n",
      "    (UCP\n",
      "      (ADJP (NP (CD 55) (NNS years)) (JJ old))\n",
      "      (CC and)\n",
      "      (NP\n",
      "        (NP (JJ former) (NN chairman))\n",
      "        (PP\n",
      "          (IN of)\n",
      "          (NP (NNP Consolidated) (NNP Gold) (NNP Fields) (NNP PLC)))))\n",
      "    (, ,))\n",
      "  (VP\n",
      "    (VBD was)\n",
      "    (VP\n",
      "      (VBN named)\n",
      "      (S\n",
      "        (NP-SBJ (-NONE- *-1))\n",
      "        (NP-PRD\n",
      "          (NP (DT a) (JJ nonexecutive) (NN director))\n",
      "          (PP\n",
      "            (IN of)\n",
      "            (NP\n",
      "              (DT this)\n",
      "              (JJ British)\n",
      "              (JJ industrial)\n",
      "              (NN conglomerate)))))))\n",
      "  (. .))\n"
     ]
    }
   ],
   "source": [
    "import nltk\n",
    "tree = nltk.corpus.treebank.parsed_sents('wsj_0002.mrg')[0]\n",
    "print(tree)"
   ]
  },
  {
   "cell_type": "code",
   "execution_count": 3,
   "metadata": {},
   "outputs": [
    {
     "name": "stdout",
     "output_type": "stream",
     "text": [
      "(S\n",
      "  (NP-SBJ (NNP Mr.) (NNP Vinken))\n",
      "  (VP\n",
      "    (VBZ is)\n",
      "    (NP-PRD\n",
      "      (NP (NN chairman))\n",
      "      (PP\n",
      "        (IN of)\n",
      "        (NP\n",
      "          (NP (NNP Elsevier) (NNP N.V.))\n",
      "          (, ,)\n",
      "          (NP (DT the) (NNP Dutch) (VBG publishing) (NN group))))))\n",
      "  (. .))\n"
     ]
    }
   ],
   "source": [
    "import nltk\n",
    "tree = nltk.corpus.treebank.parsed_sents('wsj_0001.mrg')[1]\n",
    "print(tree)"
   ]
  },
  {
   "cell_type": "markdown",
   "metadata": {},
   "source": [
    "## Construction d'une grammaire"
   ]
  },
  {
   "cell_type": "code",
   "execution_count": 17,
   "metadata": {},
   "outputs": [],
   "source": [
    "from nltk import CFG\n",
    "\n",
    "grammar = CFG.fromstring(\"\"\"\n",
    "  S -> NP VP\n",
    "  PP -> P NP\n",
    "  NP -> Det N | NP PP\n",
    "  VP -> V NP | VP PP\n",
    "  Det -> 'a' | 'the'\n",
    "  N -> 'dog' | 'cat'\n",
    "  V -> 'chased' | 'sat'\n",
    "  P -> 'on' | 'in'\n",
    "\"\"\")"
   ]
  },
  {
   "cell_type": "code",
   "execution_count": 18,
   "metadata": {},
   "outputs": [
    {
     "data": {
      "text/plain": [
       "[S -> NP VP,\n",
       " PP -> P NP,\n",
       " NP -> Det N,\n",
       " NP -> NP PP,\n",
       " VP -> V NP,\n",
       " VP -> VP PP,\n",
       " Det -> 'a',\n",
       " Det -> 'the',\n",
       " N -> 'dog',\n",
       " N -> 'cat',\n",
       " V -> 'chased',\n",
       " V -> 'sat',\n",
       " P -> 'on',\n",
       " P -> 'in']"
      ]
     },
     "execution_count": 18,
     "metadata": {},
     "output_type": "execute_result"
    }
   ],
   "source": [
    "grammar.productions()"
   ]
  },
  {
   "cell_type": "code",
   "execution_count": null,
   "metadata": {},
   "outputs": [],
   "source": []
  },
  {
   "cell_type": "code",
   "execution_count": 5,
   "metadata": {},
   "outputs": [],
   "source": [
    "from nltk import CFG\n",
    "grammar = CFG.fromstring(\"\"\"\n",
    " S -> NP VP\n",
    " PP -> P NP\n",
    " NP -> Det N | Det N PP | 'I'\n",
    " VP -> V NP | VP PP\n",
    " Det -> 'an' | 'my'\n",
    "N -> 'elephant' | 'pajamas'\n",
    "V -> 'shot'\n",
    "P -> 'in'\n",
    " \"\"\")"
   ]
  },
  {
   "cell_type": "markdown",
   "metadata": {},
   "source": [
    "## Tests de couverture"
   ]
  },
  {
   "cell_type": "code",
   "execution_count": 4,
   "metadata": {},
   "outputs": [],
   "source": [
    "from nltk import CFG\n",
    "\n",
    "grammar = CFG.fromstring(\"\"\"\n",
    "  S -> NP VP\n",
    "  PP -> P NP\n",
    "  NP -> Det N | NP PP\n",
    "  VP -> V NP | VP PP\n",
    "  Det -> 'a' | 'the'\n",
    "  N -> 'dog' | 'cat'\n",
    "  V -> 'chased' | 'sat'\n",
    "  P -> 'on' | 'in'\n",
    "\"\"\")\n"
   ]
  },
  {
   "cell_type": "code",
   "execution_count": 2,
   "metadata": {},
   "outputs": [
    {
     "data": {
      "text/plain": [
       "[S -> NP VP,\n",
       " PP -> P NP,\n",
       " NP -> Det N,\n",
       " NP -> NP PP,\n",
       " VP -> V NP,\n",
       " VP -> VP PP,\n",
       " Det -> 'a',\n",
       " Det -> 'the',\n",
       " N -> 'dog',\n",
       " N -> 'cat',\n",
       " V -> 'chased',\n",
       " V -> 'sat',\n",
       " P -> 'on',\n",
       " P -> 'in']"
      ]
     },
     "execution_count": 2,
     "metadata": {},
     "output_type": "execute_result"
    }
   ],
   "source": [
    "grammar.productions()\n",
    "\n",
    "    "
   ]
  },
  {
   "cell_type": "code",
   "execution_count": 21,
   "metadata": {},
   "outputs": [
    {
     "name": "stdout",
     "output_type": "stream",
     "text": [
      "mots non couverts\n"
     ]
    }
   ],
   "source": [
    "try : \n",
    "    grammar.check_coverage(['a','chien'])\n",
    "    print('ok')\n",
    "except :\n",
    "    print(\"mots non couverts\")\n",
    "    \n"
   ]
  },
  {
   "cell_type": "code",
   "execution_count": 7,
   "metadata": {},
   "outputs": [
    {
     "name": "stdout",
     "output_type": "stream",
     "text": [
      "ok\n"
     ]
    }
   ],
   "source": [
    "try : \n",
    "    grammar.check_coverage(['a'])\n",
    "    print('ok')\n",
    "except :\n",
    "    print(\"mots non couverts\")\n",
    "    "
   ]
  },
  {
   "cell_type": "code",
   "execution_count": null,
   "metadata": {},
   "outputs": [],
   "source": [
    " sent = \"a dog chased two cats\".split()"
   ]
  },
  {
   "cell_type": "code",
   "execution_count": 11,
   "metadata": {},
   "outputs": [
    {
     "data": {
      "text/plain": [
       "['a', 'dog', 'chased', 'a', 'cat']"
      ]
     },
     "execution_count": 11,
     "metadata": {},
     "output_type": "execute_result"
    }
   ],
   "source": [
    "sent"
   ]
  },
  {
   "cell_type": "code",
   "execution_count": null,
   "metadata": {},
   "outputs": [],
   "source": [
    "rd_parser = nltk.RecursiveDescentParser(grammar) "
   ]
  },
  {
   "cell_type": "code",
   "execution_count": null,
   "metadata": {},
   "outputs": [],
   "source": [
    " for tree in rd_parser.parse(sent): \n",
    "        print(tree)"
   ]
  },
  {
   "cell_type": "code",
   "execution_count": null,
   "metadata": {},
   "outputs": [],
   "source": []
  }
 ],
 "metadata": {
  "kernelspec": {
   "display_name": "Python 3 (ipykernel)",
   "language": "python",
   "name": "python3"
  },
  "language_info": {
   "codemirror_mode": {
    "name": "ipython",
    "version": 3
   },
   "file_extension": ".py",
   "mimetype": "text/x-python",
   "name": "python",
   "nbconvert_exporter": "python",
   "pygments_lexer": "ipython3",
   "version": "3.8.10"
  }
 },
 "nbformat": 4,
 "nbformat_minor": 2
}
