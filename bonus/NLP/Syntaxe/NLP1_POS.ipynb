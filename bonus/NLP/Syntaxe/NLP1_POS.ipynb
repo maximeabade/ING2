{
 "cells": [
  {
   "cell_type": "markdown",
   "metadata": {},
   "source": [
    "# Chaine de traitement (raw text - tokenizer - pos)\n"
   ]
  },
  {
   "cell_type": "markdown",
   "metadata": {},
   "source": [
    "## Chargement texte brut (raw)"
   ]
  },
  {
   "cell_type": "code",
   "execution_count": null,
   "metadata": {},
   "outputs": [],
   "source": [
    "# import de la librairie nltk (natural language tool kit)\n",
    "import nltk\n",
    "\n",
    "# charger un corpus (corpus gratuit gutemberg https://www.gutenberg.org/about/)\n",
    "nltk.download('gutenberg',download_dir=\"./\")\n",
    "\n",
    "# charger un tokenizer (punkt tokenizer, https://aclanthology.org/J06-4003.pdf)\n",
    "nltk.download('punkt',download_dir=\"./\")\n",
    "\n",
    "#charger un pos_tagger (averaged percepeptron tagger)\n",
    "nltk.download('averaged_perceptron_tagger',download_dir=\"./\")\n",
    "\n",
    "from nltk.corpus import gutenberg "
   ]
  },
  {
   "cell_type": "markdown",
   "metadata": {},
   "source": [
    "## Découverte du corpus Gutemberg"
   ]
  },
  {
   "cell_type": "code",
   "execution_count": null,
   "metadata": {},
   "outputs": [],
   "source": [
    "#liste des textes du corpus:\n",
    "gutenberg.fileids()"
   ]
  },
  {
   "cell_type": "code",
   "execution_count": null,
   "metadata": {},
   "outputs": [],
   "source": [
    "#accès à un text particulier\n",
    "text = gutenberg.raw('carroll-alice.txt')\n",
    "print(text[:1000])"
   ]
  },
  {
   "cell_type": "markdown",
   "metadata": {},
   "source": [
    "## Découpage en phrases"
   ]
  },
  {
   "cell_type": "code",
   "execution_count": null,
   "metadata": {},
   "outputs": [],
   "source": [
    "# utilisation du tokenizer de phrase\n",
    "from nltk import sent_tokenize\n",
    "sent = sent_tokenize(text)[2]\n",
    "print(sent)"
   ]
  },
  {
   "cell_type": "markdown",
   "metadata": {},
   "source": [
    "## Découpage en mots"
   ]
  },
  {
   "cell_type": "code",
   "execution_count": null,
   "metadata": {},
   "outputs": [],
   "source": [
    "# utilisation du tokenizer de mots\n",
    "from nltk import word_tokenize\n",
    "tokens = word_tokenize(sent)\n",
    "print(tokens)"
   ]
  },
  {
   "cell_type": "markdown",
   "metadata": {},
   "source": [
    "## Part of speech tagging"
   ]
  },
  {
   "cell_type": "code",
   "execution_count": null,
   "metadata": {},
   "outputs": [],
   "source": [
    "# utilisation du pos_tagger\n",
    "from nltk import  pos_tag\n",
    "tag = pos_tag(tokens)\n",
    "print(tag)"
   ]
  },
  {
   "cell_type": "code",
   "execution_count": null,
   "metadata": {},
   "outputs": [],
   "source": [
    "#changement de tag de pos\n",
    "nltk.download('universal_tagset',download_dir=\"./\")"
   ]
  },
  {
   "cell_type": "markdown",
   "metadata": {},
   "source": [
    "## Exercice : appliquer le pos_tagger sur tout un texte"
   ]
  },
  {
   "cell_type": "code",
   "execution_count": null,
   "metadata": {},
   "outputs": [],
   "source": [
    "from nltk import  pos_tag_sents\n",
    "\n",
    "list_list_tokens = #Votre Code Ici\n",
    "\n",
    "pos_tag_sents(list_list_tokens,tagset='universal')"
   ]
  },
  {
   "cell_type": "markdown",
   "metadata": {},
   "source": [
    "## Exercice : écrire en utilisant le corpus étiquété \"treebank\" issu du Wall Street Journal, le tagger naïf décrit dans le cours"
   ]
  },
  {
   "cell_type": "code",
   "execution_count": null,
   "metadata": {},
   "outputs": [],
   "source": [
    "nltk.download('treebank',download_dir=\"./\")"
   ]
  },
  {
   "cell_type": "code",
   "execution_count": null,
   "metadata": {},
   "outputs": [],
   "source": [
    "from nltk.corpus import treebank\n",
    "from nltk import ConditionalFreqDist as cfd\n",
    "from itertools import chain\n",
    "\n",
    "# calcul du wordcount du corpus\n",
    "treebank_tagged_words = list(chain(*list(chain(*[[tree.pos() for tree in treebank.parsed_sents(pf)] for pf in treebank.fileids()]))))\n",
    "wordcounts = cfd(treebank_tagged_words)\n",
    "\n",
    "def naif_pos_tag(tokens,wordcounts):\n",
    "        # Votre code ici\n",
    "        # rappel algo (étiquette la plus courante si présente, sinon Nom)\n",
    "\n",
    "\n"
   ]
  },
  {
   "cell_type": "code",
   "execution_count": null,
   "metadata": {},
   "outputs": [],
   "source": [
    "treebank"
   ]
  }
 ],
 "metadata": {
  "kernelspec": {
   "display_name": "Python 3 (ipykernel)",
   "language": "python",
   "name": "python3"
  },
  "language_info": {
   "codemirror_mode": {
    "name": "ipython",
    "version": 3
   },
   "file_extension": ".py",
   "mimetype": "text/x-python",
   "name": "python",
   "nbconvert_exporter": "python",
   "pygments_lexer": "ipython3",
   "version": "3.8.10"
  }
 },
 "nbformat": 4,
 "nbformat_minor": 2
}
