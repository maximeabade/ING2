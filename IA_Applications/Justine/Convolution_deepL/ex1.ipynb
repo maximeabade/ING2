{
 "cells": [
  {
   "attachments": {},
   "cell_type": "markdown",
   "metadata": {},
   "source": [
    "# Opérations de base d’un réseau ConvNet"
   ]
  },
  {
   "cell_type": "code",
   "execution_count": 1,
   "metadata": {},
   "outputs": [],
   "source": [
    "import numpy as np"
   ]
  },
  {
   "cell_type": "code",
   "execution_count": 2,
   "metadata": {},
   "outputs": [
    {
     "name": "stdout",
     "output_type": "stream",
     "text": [
      "[[1 4 1 0 4 2 2 0 4]\n",
      " [4 3 3 4 3 2 4 0 3]\n",
      " [0 4 4 0 0 0 2 3 4]\n",
      " [0 2 1 3 2 3 2 4 2]\n",
      " [3 1 1 1 0 2 2 0 4]\n",
      " [2 4 3 2 4 4 3 0 0]\n",
      " [4 4 3 0 1 4 2 1 2]\n",
      " [2 4 0 1 1 3 2 3 2]\n",
      " [2 0 1 2 1 0 3 1 1]]\n"
     ]
    }
   ],
   "source": [
    "# Définir image\n",
    "ni = 9\n",
    "mi = 9\n",
    "image = np.random.randint(5, size=(ni,mi))\n",
    "print(image)"
   ]
  },
  {
   "cell_type": "code",
   "execution_count": 3,
   "metadata": {},
   "outputs": [
    {
     "name": "stdout",
     "output_type": "stream",
     "text": [
      "[[4 3 0]\n",
      " [0 0 1]\n",
      " [1 0 3]]\n"
     ]
    }
   ],
   "source": [
    "#Définir filtre\n",
    "nf = 3\n",
    "mf = 3\n",
    "filtre = np.random.randint(5, size=(nf,mf))\n",
    "print(filtre)"
   ]
  },
  {
   "cell_type": "code",
   "execution_count": 4,
   "metadata": {},
   "outputs": [],
   "source": [
    "# Application du filtre\n",
    "nv_image = np.empty(shape=(ni-nf, mi-mf), dtype=object)\n",
    "for i in range(ni-nf) :\n",
    "    nv_image[i] = np.empty(mi-mf, dtype=object)\n",
    "    for j in range(mi-mf) :\n",
    "        somme = 0\n",
    "        for k in range(nf) :\n",
    "            for l in range(mf) :\n",
    "                somme += image[i+k, j+l] * filtre[k, l]\n",
    "        nv_image[i, j] = somme"
   ]
  },
  {
   "cell_type": "code",
   "execution_count": 5,
   "metadata": {},
   "outputs": [
    {
     "name": "stdout",
     "output_type": "stream",
     "text": [
      "[[31 27 11 14 32 23]\n",
      " [32 32 31 37 28 38]\n",
      " [19 35 19 10 8 12]\n",
      " [18 22 28 34 32 22]\n",
      " [31 13 17 20 16 21]\n",
      " [25 32 22 34 37 38]]\n"
     ]
    }
   ],
   "source": [
    "print(nv_image)"
   ]
  }
 ],
 "metadata": {
  "kernelspec": {
   "display_name": "Python 3",
   "language": "python",
   "name": "python3"
  },
  "language_info": {
   "codemirror_mode": {
    "name": "ipython",
    "version": 3
   },
   "file_extension": ".py",
   "mimetype": "text/x-python",
   "name": "python",
   "nbconvert_exporter": "python",
   "pygments_lexer": "ipython3",
   "version": "3.10.0"
  },
  "orig_nbformat": 4
 },
 "nbformat": 4,
 "nbformat_minor": 2
}
