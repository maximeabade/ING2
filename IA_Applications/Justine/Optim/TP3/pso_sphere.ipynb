{
 "cells": [
  {
   "cell_type": "code",
   "execution_count": 1,
   "metadata": {},
   "outputs": [],
   "source": [
    "import random\n",
    "import numpy as np\n",
    "from scipy.spatial import distance"
   ]
  },
  {
   "attachments": {},
   "cell_type": "markdown",
   "metadata": {},
   "source": [
    "# L’optimisation par essaims particulaires : Fonction sphere"
   ]
  },
  {
   "cell_type": "code",
   "execution_count": 2,
   "metadata": {},
   "outputs": [],
   "source": [
    "def sphere(vect_x): \n",
    "    res = 0\n",
    "    for x in vect_x:\n",
    "        res += x**2\n",
    "    return(res)"
   ]
  },
  {
   "cell_type": "code",
   "execution_count": 3,
   "metadata": {},
   "outputs": [],
   "source": [
    "def initialization(dimension, max_bound, min_bound):\n",
    "    vect_x = []\n",
    "    for _ in range(dimension):\n",
    "        vect_x.append(round(random.uniform(min_bound, max_bound), 2))\n",
    "    return(vect_x)"
   ]
  },
  {
   "cell_type": "code",
   "execution_count": 4,
   "metadata": {},
   "outputs": [],
   "source": [
    "def find_best_position(best_positions_particules):\n",
    "    max_value = 0\n",
    "    global_best_position = None\n",
    "    for position in best_positions_particules:\n",
    "        value = sphere(position)\n",
    "        if value > max_value:\n",
    "            global_best_position = position.copy()\n",
    "            max_value = value\n",
    "    return(global_best_position)"
   ]
  },
  {
   "cell_type": "code",
   "execution_count": 5,
   "metadata": {},
   "outputs": [],
   "source": [
    "def substraction(x, y):\n",
    "    return(x-y)"
   ]
  },
  {
   "cell_type": "code",
   "execution_count": 6,
   "metadata": {},
   "outputs": [],
   "source": [
    "def calculate_speed(former_speed, former_position, best_position, global_best_position, psi, c1, c2):\n",
    "    rho1 = c1 * round(random.uniform(0,1), 2)\n",
    "    rho2 = c2 * round(random.uniform(0,1), 2)\n",
    "    speed = psi*former_speed + rho1*np.array(list(map(substraction, best_position, former_position))).mean() + rho2*np.array(list(map(substraction, global_best_position, former_position))).mean()\n",
    "    return(round(speed,2))"
   ]
  },
  {
   "cell_type": "code",
   "execution_count": 7,
   "metadata": {},
   "outputs": [],
   "source": [
    "def boundary_making(max_bound, min_bound, position):\n",
    "    for index, value in enumerate(position):\n",
    "        if value < min_bound:\n",
    "            position[index] = min_bound\n",
    "        elif value > max_bound:\n",
    "            position[index] = max_bound\n",
    "    return(position)"
   ]
  },
  {
   "cell_type": "code",
   "execution_count": 8,
   "metadata": {},
   "outputs": [],
   "source": [
    "def update_neighbourhood(nb_neighbours, particule, positions_particules):\n",
    "    sorted_postitions = []\n",
    "    sorted_dist = []\n",
    "    for position in positions_particules:\n",
    "        dist = distance.euclidean(particule, position)\n",
    "        sorted_dist.append(dist)\n",
    "        sorted(sorted_dist)\n",
    "        index = sorted_dist.index(dist)\n",
    "        sorted_postitions.insert(index, position)\n",
    "    return(sorted_postitions[:nb_neighbours])"
   ]
  },
  {
   "cell_type": "code",
   "execution_count": 11,
   "metadata": {},
   "outputs": [],
   "source": [
    "def particuleSwarmOptimization(dimension, nbParticules):\n",
    "    # initialization\n",
    "    cpt = 0\n",
    "    psi = 0.7\n",
    "    c1 = 1\n",
    "    c2 = 1\n",
    "    max_bound = 5.12\n",
    "    min_bound = -5.12\n",
    "    nb_neighbours = 3\n",
    "    positions_particules = []\n",
    "    best_positions_particules = []\n",
    "    speed_particules = []\n",
    "    for _ in range(nbParticules):\n",
    "        vect_x = initialization(dimension, max_bound, min_bound)\n",
    "        positions_particules.append(vect_x.copy())\n",
    "        best_positions_particules.append(vect_x.copy())\n",
    "        speed_particules.append(0)\n",
    "\n",
    "    # algorithm\n",
    "    while cpt < 5:\n",
    "\n",
    "        for index, position in enumerate(positions_particules):\n",
    "            # update neighbourhood\n",
    "            neighbours = update_neighbourhood(nb_neighbours, position, positions_particules)\n",
    "            global_best_position = find_best_position(neighbours)\n",
    "\n",
    "            # new position\n",
    "            speed = calculate_speed(speed_particules[index], position, best_positions_particules[index], global_best_position, psi, c1, c2)\n",
    "            speed_particules[index] = speed\n",
    "            new_position = boundary_making(max_bound, min_bound, list(map(lambda x: x + speed, position)))\n",
    "            positions_particules[index] = new_position\n",
    "\n",
    "            # update best position\n",
    "            if sphere(new_position) > sphere(position):\n",
    "                best_positions_particules[index] = new_position\n",
    "\n",
    "        cpt += 1\n",
    "\n",
    "    return global_best_position"
   ]
  },
  {
   "cell_type": "code",
   "execution_count": 12,
   "metadata": {},
   "outputs": [
    {
     "name": "stdout",
     "output_type": "stream",
     "text": [
      "[4.31, 5.09, -3.88, -4.33]\n",
      "78.2875\n"
     ]
    }
   ],
   "source": [
    "x = particuleSwarmOptimization(4, 25)\n",
    "print(x)\n",
    "print(sphere(x))"
   ]
  }
 ],
 "metadata": {
  "kernelspec": {
   "display_name": "Python 3",
   "language": "python",
   "name": "python3"
  },
  "language_info": {
   "codemirror_mode": {
    "name": "ipython",
    "version": 3
   },
   "file_extension": ".py",
   "mimetype": "text/x-python",
   "name": "python",
   "nbconvert_exporter": "python",
   "pygments_lexer": "ipython3",
   "version": "3.10.0"
  },
  "orig_nbformat": 4,
  "vscode": {
   "interpreter": {
    "hash": "f998ce38fb7b93036fa60f244eba33f25225bd123b8451abfbd03f4bf0f3ecc3"
   }
  }
 },
 "nbformat": 4,
 "nbformat_minor": 2
}
