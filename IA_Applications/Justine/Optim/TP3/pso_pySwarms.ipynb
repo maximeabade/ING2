{
 "cells": [
  {
   "cell_type": "code",
   "execution_count": 4,
   "metadata": {},
   "outputs": [],
   "source": [
    "import pyswarms as ps\n",
    "import numpy as np\n",
    "from pyswarms.utils.functions import single_obj as fx\n",
    "\n",
    "%load_ext autoreload\n",
    "%autoreload 2"
   ]
  },
  {
   "attachments": {},
   "cell_type": "markdown",
   "metadata": {},
   "source": [
    "# Particules Swarm Optimization : PySwarms package"
   ]
  },
  {
   "attachments": {},
   "cell_type": "markdown",
   "metadata": {},
   "source": [
    "### Rosenbrock"
   ]
  },
  {
   "cell_type": "code",
   "execution_count": 23,
   "metadata": {},
   "outputs": [
    {
     "name": "stderr",
     "output_type": "stream",
     "text": [
      "2023-02-20 15:54:52,911 - pyswarms.single.global_best - INFO - Optimize for 1000 iters with {'c1': 1.47, 'c2': 1.47, 'w': 0.7}\n",
      "pyswarms.single.global_best: 100%|██████████|1000/1000, best_cost=0.29\n",
      "2023-02-20 15:54:54,385 - pyswarms.single.global_best - INFO - Optimization finished | best cost: 0.2904061280819499, best pos: [0.98196576 0.97848864 0.98232571 0.97651613 0.96660984 0.94753677\n",
      " 0.90254337 0.81884353 0.67273068 0.44939831]\n"
     ]
    }
   ],
   "source": [
    "dim = 10\n",
    "\n",
    "# Create bounds\n",
    "max_bound = 2.048 * np.ones(dim)\n",
    "min_bound = - max_bound\n",
    "bounds = (min_bound, max_bound)\n",
    "\n",
    "#%%time\n",
    "# Initialize swarm\n",
    "options = {'c1': 1.47, 'c2': 1.47, 'w':0.7}\n",
    "\n",
    "# Call instance of PSO with bounds argument\n",
    "optimizer = ps.single.GlobalBestPSO(n_particles=25, dimensions=dim, options=options, bounds=bounds)\n",
    "\n",
    "# Perform optimization\n",
    "cost, pos = optimizer.optimize(fx.rosenbrock, iters=1000)"
   ]
  }
 ],
 "metadata": {
  "kernelspec": {
   "display_name": "Python 3",
   "language": "python",
   "name": "python3"
  },
  "language_info": {
   "codemirror_mode": {
    "name": "ipython",
    "version": 3
   },
   "file_extension": ".py",
   "mimetype": "text/x-python",
   "name": "python",
   "nbconvert_exporter": "python",
   "pygments_lexer": "ipython3",
   "version": "3.10.0"
  },
  "orig_nbformat": 4,
  "vscode": {
   "interpreter": {
    "hash": "f998ce38fb7b93036fa60f244eba33f25225bd123b8451abfbd03f4bf0f3ecc3"
   }
  }
 },
 "nbformat": 4,
 "nbformat_minor": 2
}
