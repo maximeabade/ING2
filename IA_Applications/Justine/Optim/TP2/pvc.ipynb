{
 "cells": [
  {
   "cell_type": "code",
   "execution_count": 21,
   "metadata": {},
   "outputs": [],
   "source": [
    "import random\n",
    "import matplotlib.pyplot as plt\n",
    "import math\n",
    "import sys\n",
    "from scipy.stats import bernoulli"
   ]
  },
  {
   "attachments": {},
   "cell_type": "markdown",
   "metadata": {},
   "source": [
    "# Le problème du voyageur de commerce"
   ]
  },
  {
   "cell_type": "code",
   "execution_count": 22,
   "metadata": {},
   "outputs": [],
   "source": [
    "points = []\n",
    "with open(\"RS/16.tsp\", \"r\") as f:\n",
    "    for line in f:\n",
    "        line_list = line.strip().split(\" \")\n",
    "        points.append([float(line_list[0]), float(line_list[1]), float(line_list[2])])"
   ]
  },
  {
   "cell_type": "code",
   "execution_count": 23,
   "metadata": {},
   "outputs": [],
   "source": [
    "def total_distance(path):\n",
    "    dist_total = 0\n",
    "    for i in range(len(path)):\n",
    "        if i != len(path) - 1:\n",
    "            dist_total += math.sqrt(pow(path[i][1] - path[i + 1][1],2) + pow(path[i][2] - path[i + 1][2], 2))\n",
    "        else:\n",
    "            dist_total += math.sqrt(pow(path[i][1] - path[0][1], 2) + pow(path[i][2] - path[0][2], 2))\n",
    "    return(dist_total)"
   ]
  },
  {
   "cell_type": "code",
   "execution_count": 24,
   "metadata": {},
   "outputs": [],
   "source": [
    "def algo_naif(points):\n",
    "    dist_min = sys.maxsize\n",
    "    path_min = []\n",
    "    for i in range(1000 * len(points)):\n",
    "        path = random.sample(points, len(points))\n",
    "        dist_total = total_distance(path)\n",
    "        if(dist_total < dist_min):\n",
    "            dist_min = dist_total\n",
    "            path_min = path.copy()\n",
    "    return(path_min)"
   ]
  },
  {
   "cell_type": "code",
   "execution_count": 25,
   "metadata": {},
   "outputs": [],
   "source": [
    "def disturbance(path):\n",
    "    neighbor = path.copy()\n",
    "    [indice1, indice2] = random.sample(range(len(neighbor)), 2)\n",
    "    tmp = neighbor[indice1]\n",
    "    neighbor[indice1] = neighbor[indice2]\n",
    "    neighbor[indice2] = tmp\n",
    "    return(neighbor)"
   ]
  },
  {
   "cell_type": "code",
   "execution_count": 26,
   "metadata": {},
   "outputs": [],
   "source": [
    "def lahc(path, n_mem):\n",
    "\n",
    "    path_min = path.copy()\n",
    "\n",
    "    dist_min = total_distance(path_min)\n",
    "    print()\n",
    "\n",
    "    memory = []\n",
    "    for i in range(n_mem):\n",
    "        memory.append(dist_min)\n",
    "\n",
    "    convergence_value_min = []\n",
    "\n",
    "    cpt = 1\n",
    "\n",
    "    while cpt < 2000:\n",
    "\n",
    "        dist_mem = memory[cpt % n_mem]\n",
    "        neighbor = disturbance(path)\n",
    "        dist_neighbor = total_distance(neighbor)\n",
    "\n",
    "        if dist_neighbor < dist_mem :\n",
    "            path = neighbor.copy()\n",
    "\n",
    "        memory[cpt % n_mem] = dist_neighbor\n",
    "\n",
    "        if dist_neighbor < dist_min:\n",
    "            path_min = neighbor.copy()\n",
    "            dist_min = dist_neighbor\n",
    "\n",
    "        convergence_value_min.append(dist_min)\n",
    "\n",
    "        cpt += 1\n",
    "\n",
    "    return(path_min, dist_min, convergence_value_min)"
   ]
  },
  {
   "cell_type": "code",
   "execution_count": 27,
   "metadata": {},
   "outputs": [
    {
     "name": "stdout",
     "output_type": "stream",
     "text": [
      "\n",
      "\n",
      "\n",
      "\n",
      "\n",
      "77.28802133695112\n"
     ]
    },
    {
     "data": {
      "image/png": "[encoded data removed]",
      "text/plain": [
       "<Figure size 432x288 with 1 Axes>"
      ]
     },
     "metadata": {
      "needs_background": "light"
     },
     "output_type": "display_data"
    }
   ],
   "source": [
    "path = algo_naif(points)\n",
    "\n",
    "path_min1, dist_min1, convergence_value_min1 = lahc(path, 100)\n",
    "\n",
    "path_min2, dist_min2, convergence_value_min2 = lahc(path, 500)\n",
    "\n",
    "path_min3, dist_min3, convergence_value_min3 = lahc(path, 1000)\n",
    "\n",
    "path_min4, dist_min4, convergence_value_min4 = lahc(path, 5000)\n",
    "\n",
    "path_min5, dist_min5, convergence_value_min5 = lahc(path, 10000)\n",
    "\n",
    "plt.plot(range(1, 2000), convergence_value_min1, label='50')\n",
    "plt.plot(range(1, 2000), convergence_value_min2, label='100')\n",
    "plt.plot(range(1, 2000), convergence_value_min3, label='250')\n",
    "plt.plot(range(1, 2000), convergence_value_min4, label='500')\n",
    "plt.plot(range(1, 2000), convergence_value_min5, label='1000')\n",
    "\n",
    "print(min(dist_min1, dist_min2, dist_min3, dist_min4, dist_min5))\n",
    "\n",
    "plt.legend()\n",
    "\n",
    "plt.show()"
   ]
  },
  {
   "attachments": {},
   "cell_type": "markdown",
   "metadata": {},
   "source": [
    "## Comparaison des deux algos"
   ]
  },
  {
   "cell_type": "code",
   "execution_count": 28,
   "metadata": {},
   "outputs": [
    {
     "name": "stdout",
     "output_type": "stream",
     "text": [
      "\n",
      "\n",
      "\n",
      "\n",
      "\n",
      "\n",
      "\n",
      "\n",
      "\n",
      "\n",
      "\n",
      "\n",
      "\n",
      "\n",
      "\n",
      "\n",
      "\n",
      "\n",
      "\n",
      "\n",
      "\n",
      "\n",
      "\n",
      "\n",
      "\n",
      "\n",
      "\n",
      "\n",
      "\n",
      "\n"
     ]
    }
   ],
   "source": [
    "res_lahc = []\n",
    "path = algo_naif(points)\n",
    "for i in range(30):\n",
    "    path_min, dist_min, convergence_value_min = lahc(path.copy(), 500)\n",
    "    res_lahc.append(dist_min)"
   ]
  },
  {
   "cell_type": "code",
   "execution_count": 29,
   "metadata": {},
   "outputs": [],
   "source": [
    "def metropolisCriteria(delta, t):\n",
    "    if(delta < 0):\n",
    "        res = True\n",
    "    else :\n",
    "        res_prob = bernoulli.rvs(math.exp(-delta/t))\n",
    "        res = (res_prob == 1)\n",
    "    return(res)"
   ]
  },
  {
   "cell_type": "code",
   "execution_count": 30,
   "metadata": {},
   "outputs": [],
   "source": [
    "def cooling(alpha, t):\n",
    "    return(alpha*t)"
   ]
  },
  {
   "cell_type": "code",
   "execution_count": 31,
   "metadata": {},
   "outputs": [],
   "source": [
    "def recuit_simule(path, t):\n",
    "\n",
    "    dist = total_distance(path)\n",
    "    path_min = path\n",
    "    dist_min = dist\n",
    "\n",
    "    cpt = 1\n",
    "\n",
    "    convergence_value_min = []\n",
    "\n",
    "    while cpt < 2000:\n",
    "\n",
    "        cpt_without_improvement = 1\n",
    "        improved = False\n",
    "\n",
    "        while cpt_without_improvement < 100 and not improved:\n",
    "\n",
    "            neighbor = disturbance(path)\n",
    "            dist_neighbor = total_distance(neighbor)\n",
    "            delta = dist_neighbor - dist\n",
    "\n",
    "            if metropolisCriteria(delta, t):\n",
    "\n",
    "                path = neighbor\n",
    "                dist = dist_neighbor\n",
    "                \n",
    "                if delta > 0 and dist_neighbor < dist_min:\n",
    "\n",
    "                    dist_min = dist_neighbor\n",
    "                    path_min = neighbor\n",
    "                    improved = True\n",
    "            \n",
    "            cpt_without_improvement += 1\n",
    "        \n",
    "        cpt += 1\n",
    "\n",
    "        t = cooling(0.99, t)\n",
    "\n",
    "        convergence_value_min.append(dist_min)\n",
    "    \n",
    "    return(path_min, dist_min, convergence_value_min)"
   ]
  },
  {
   "cell_type": "code",
   "execution_count": 35,
   "metadata": {},
   "outputs": [],
   "source": [
    "res_recuit = []\n",
    "path = algo_naif(points)\n",
    "for i in range(30):\n",
    "    path_min, dist_min, convergence_value_min = recuit_simule(path.copy(), 10000)\n",
    "    res_recuit.append(dist_min)"
   ]
  },
  {
   "cell_type": "code",
   "execution_count": 37,
   "metadata": {},
   "outputs": [
    {
     "data": {
      "image/png": "[encoded data removed]",
      "text/plain": [
       "<Figure size 432x288 with 1 Axes>"
      ]
     },
     "metadata": {
      "needs_background": "light"
     },
     "output_type": "display_data"
    }
   ],
   "source": [
    "plt.boxplot([res_recuit, res_lahc], labels=[\"Recuit simulé\", \"LAHC\"], showfliers=False)\n",
    "plt.show()"
   ]
  }
 ],
 "metadata": {
  "kernelspec": {
   "display_name": "Python 3",
   "language": "python",
   "name": "python3"
  },
  "language_info": {
   "codemirror_mode": {
    "name": "ipython",
    "version": 3
   },
   "file_extension": ".py",
   "mimetype": "text/x-python",
   "name": "python",
   "nbconvert_exporter": "python",
   "pygments_lexer": "ipython3",
   "version": "3.10.0"
  },
  "orig_nbformat": 4,
  "vscode": {
   "interpreter": {
    "hash": "f998ce38fb7b93036fa60f244eba33f25225bd123b8451abfbd03f4bf0f3ecc3"
   }
  }
 },
 "nbformat": 4,
 "nbformat_minor": 2
}
