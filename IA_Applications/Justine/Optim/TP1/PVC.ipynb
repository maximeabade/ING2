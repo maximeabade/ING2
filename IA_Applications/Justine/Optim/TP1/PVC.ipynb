{
 "cells": [
  {
   "cell_type": "code",
   "execution_count": 2,
   "metadata": {},
   "outputs": [],
   "source": [
    "import matplotlib.pyplot as plt\n",
    "import random\n",
    "import sys\n",
    "import math\n",
    "from scipy.stats import bernoulli"
   ]
  },
  {
   "attachments": {},
   "cell_type": "markdown",
   "metadata": {},
   "source": [
    "# Problème du voyageur de commerce"
   ]
  },
  {
   "cell_type": "code",
   "execution_count": 3,
   "metadata": {},
   "outputs": [],
   "source": [
    "indices = []\n",
    "x = []\n",
    "y = []\n",
    "points = []\n",
    "with open(\"RS/16.tsp\", \"r\") as f:\n",
    "    for line in f:\n",
    "        line_list = line.strip().split(\" \")\n",
    "        points.append(line_list)\n",
    "        indices.append(line_list[0])\n",
    "        x.append(line_list[1])\n",
    "        y.append(line_list[2])"
   ]
  },
  {
   "cell_type": "code",
   "execution_count": 4,
   "metadata": {},
   "outputs": [
    {
     "data": {
      "text/plain": [
       "[['1', '38.24', '20.42'],\n",
       " ['2', '39.57', '26.15'],\n",
       " ['3', '40.56', '25.32'],\n",
       " ['4', '36.26', '23.12'],\n",
       " ['5', '33.48', '10.54'],\n",
       " ['6', '37.56', '12.19'],\n",
       " ['7', '38.42', '13.11'],\n",
       " ['8', '37.52', '20.44'],\n",
       " ['9', '41.23', '9.10'],\n",
       " ['10', '41.17', '13.05'],\n",
       " ['11', '36.08', '-5.21'],\n",
       " ['12', '38.47', '15.13'],\n",
       " ['13', '38.15', '15.35'],\n",
       " ['14', '37.51', '15.17'],\n",
       " ['15', '35.49', '14.32'],\n",
       " ['16', '39.36', '19.56']]"
      ]
     },
     "execution_count": 4,
     "metadata": {},
     "output_type": "execute_result"
    }
   ],
   "source": [
    "points"
   ]
  },
  {
   "cell_type": "code",
   "execution_count": 5,
   "metadata": {},
   "outputs": [],
   "source": [
    "def total_distance(path):\n",
    "    dist_total = 0\n",
    "    for i in range(len(path)):\n",
    "        if i != len(path) - 1:\n",
    "            dist_total += math.sqrt(pow(float(path[i][1]) - float(path[i + 1][1]),2) + pow(float(path[i][2]) - float(path[i + 1][2]), 2))\n",
    "        else:\n",
    "            dist_total += math.sqrt(pow(float(path[i][1]) - float(path[0][1]), 2) + pow(float(path[i][2]) - float(path[0][2]), 2))\n",
    "    return(dist_total)"
   ]
  },
  {
   "attachments": {},
   "cell_type": "markdown",
   "metadata": {},
   "source": [
    "## Version naïve "
   ]
  },
  {
   "cell_type": "code",
   "execution_count": 6,
   "metadata": {},
   "outputs": [],
   "source": [
    "def algo_naif(points):\n",
    "    dist_min = sys.maxsize\n",
    "    path_min = []\n",
    "    for i in range(1000 * len(points)):\n",
    "        path = random.sample(points, len(points))\n",
    "        dist_total = total_distance(path)\n",
    "        if(dist_total < dist_min):\n",
    "            dist_min = dist_total\n",
    "            path_min = path\n",
    "    return(path_min, dist_min)\n",
    "\n",
    "path, dist = algo_naif(points)"
   ]
  },
  {
   "cell_type": "code",
   "execution_count": 7,
   "metadata": {},
   "outputs": [
    {
     "data": {
      "text/plain": [
       "94.07923381706372"
      ]
     },
     "execution_count": 7,
     "metadata": {},
     "output_type": "execute_result"
    }
   ],
   "source": [
    "dist"
   ]
  },
  {
   "attachments": {},
   "cell_type": "markdown",
   "metadata": {},
   "source": [
    "## Hill Climbing"
   ]
  },
  {
   "cell_type": "code",
   "execution_count": 8,
   "metadata": {},
   "outputs": [],
   "source": [
    "def hill_climbing(points):\n",
    "\n",
    "    dist_min = sys.maxsize\n",
    "\n",
    "    for i in range(1000 * len(points)):\n",
    "\n",
    "        path = []\n",
    "        current_point = random.choice(points)\n",
    "        \n",
    "        while len(path) != len(points):\n",
    "            dist_min_2_points = sys.maxsize\n",
    "            nearest_neighbor = None\n",
    "            for point in points:\n",
    "                if not(point in path) and point != current_point:\n",
    "                    dist = math.sqrt(pow(float(current_point[1]) - float(point[1]), 2) + pow(float(current_point[2]) - float(point[2]), 2))\n",
    "                    if(dist < dist_min_2_points):\n",
    "                        dist_min_2_points = dist\n",
    "                        nearest_neighbor = point\n",
    "                elif len(path) == len(points) - 1:\n",
    "                    nearest_neighbor = current_point\n",
    "            path.append(nearest_neighbor)\n",
    "\n",
    "            \n",
    "        dist_total = total_distance(path)\n",
    "        if(dist_total < dist_min):\n",
    "            dist_min = dist_total\n",
    "            path_min = path\n",
    "        \n",
    "    \n",
    "    return(path_min, dist_min)\n",
    "                \n",
    "path, dist = hill_climbing(points)"
   ]
  },
  {
   "cell_type": "code",
   "execution_count": 9,
   "metadata": {},
   "outputs": [
    {
     "data": {
      "text/plain": [
       "88.82869495892582"
      ]
     },
     "execution_count": 9,
     "metadata": {},
     "output_type": "execute_result"
    }
   ],
   "source": [
    "dist"
   ]
  },
  {
   "attachments": {},
   "cell_type": "markdown",
   "metadata": {},
   "source": [
    "## Coder l'algorithme"
   ]
  },
  {
   "cell_type": "code",
   "execution_count": 10,
   "metadata": {},
   "outputs": [],
   "source": [
    "def disturbance(path):\n",
    "    [indice1, indice2] = random.sample(range(len(path)), 2)\n",
    "    tmp = path[indice1]\n",
    "    path[indice1] = path[indice2]\n",
    "    path[indice2] = tmp\n",
    "    return(path)\n",
    "\n",
    "path_disturbance = disturbance(path)"
   ]
  },
  {
   "cell_type": "code",
   "execution_count": 11,
   "metadata": {},
   "outputs": [],
   "source": [
    "def metropolisCriteria(delta, t):\n",
    "    if(delta < 0):\n",
    "        res = True\n",
    "    else :\n",
    "        res_prob = bernoulli.rvs(math.exp(-delta/t))\n",
    "        res = (res_prob == 1)\n",
    "    return(res)"
   ]
  },
  {
   "cell_type": "code",
   "execution_count": 12,
   "metadata": {},
   "outputs": [],
   "source": [
    "def cooling(alpha, t):\n",
    "    return(alpha*t)"
   ]
  },
  {
   "cell_type": "code",
   "execution_count": 93,
   "metadata": {},
   "outputs": [],
   "source": [
    "def recuit_simule(path, t):\n",
    "\n",
    "    dist = total_distance(path)\n",
    "    path_min = path\n",
    "    dist_min = dist\n",
    "\n",
    "    cpt = 1\n",
    "\n",
    "    convergence_value_min = []\n",
    "\n",
    "    while cpt < 2000:\n",
    "\n",
    "        cpt_without_improvement = 1\n",
    "        improved = False\n",
    "\n",
    "        while cpt_without_improvement < 100 and not improved:\n",
    "\n",
    "            neighbor = disturbance(path)\n",
    "            dist_neighbor = total_distance(neighbor)\n",
    "            delta = dist_neighbor - dist\n",
    "\n",
    "            if metropolisCriteria(delta, t):\n",
    "\n",
    "                path = neighbor\n",
    "                dist = dist_neighbor\n",
    "                \n",
    "                if delta > 0 and dist_neighbor < dist_min:\n",
    "\n",
    "                    dist_min = dist_neighbor\n",
    "                    path_min = neighbor\n",
    "                    improved = True\n",
    "            \n",
    "            cpt_without_improvement += 1\n",
    "        \n",
    "        cpt += 1\n",
    "\n",
    "        t = cooling(0.99, t)\n",
    "\n",
    "        convergence_value_min.append(dist_min)\n",
    "    \n",
    "    return(path_min, dist_min, convergence_value_min)\n",
    "    "
   ]
  },
  {
   "cell_type": "code",
   "execution_count": 94,
   "metadata": {},
   "outputs": [],
   "source": [
    "path, dist = algo_naif(points)\n",
    "path_min, dist_min, convergence_value_min = recuit_simule(path.copy(), 10000)"
   ]
  },
  {
   "cell_type": "code",
   "execution_count": 95,
   "metadata": {},
   "outputs": [
    {
     "data": {
      "text/plain": [
       "92.22384720146437"
      ]
     },
     "execution_count": 95,
     "metadata": {},
     "output_type": "execute_result"
    }
   ],
   "source": [
    "dist_min"
   ]
  }
 ],
 "metadata": {
  "kernelspec": {
   "display_name": "Python 3",
   "language": "python",
   "name": "python3"
  },
  "language_info": {
   "codemirror_mode": {
    "name": "ipython",
    "version": 3
   },
   "file_extension": ".py",
   "mimetype": "text/x-python",
   "name": "python",
   "nbconvert_exporter": "python",
   "pygments_lexer": "ipython3",
   "version": "3.10.0"
  },
  "orig_nbformat": 4,
  "vscode": {
   "interpreter": {
    "hash": "f998ce38fb7b93036fa60f244eba33f25225bd123b8451abfbd03f4bf0f3ecc3"
   }
  }
 },
 "nbformat": 4,
 "nbformat_minor": 2
}
